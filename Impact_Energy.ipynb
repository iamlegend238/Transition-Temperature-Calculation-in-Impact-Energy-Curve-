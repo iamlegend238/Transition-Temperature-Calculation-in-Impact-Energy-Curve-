{
 "cells": [
  {
   "cell_type": "code",
   "execution_count": 75,
   "id": "41616c4c-d885-485a-97ed-b41c763812cb",
   "metadata": {},
   "outputs": [],
   "source": [
    "import numpy as np\n",
    "import matplotlib.pyplot as plt\n",
    "\n",
    "with open(r\"C:\\Users\\anand\\OneDrive\\Desktop\\Problem_3.txt\", 'r') as File1:\n",
    "    lines = len(File1.readlines())\n",
    "\n",
    "impact_energy = np.array([i for i in range(lines)])\n",
    "impact_energy = np.array(impact_energy, dtype = float)\n",
    "\n",
    "temperature = np.array([i for i in range(lines)])\n",
    "temperature = np.array(temperature, dtype = float)\n",
    "\n",
    "with open(r\"C:\\Users\\anand\\OneDrive\\Desktop\\Problem_3.txt\", 'r') as File1:\n",
    "    file_stuff = File1.readlines()\n",
    "    for i in range(lines):\n",
    "        li = list(file_stuff[i].split(\" \"))\n",
    "        temperature[i] = float(li[0])\n",
    "        impact_energy[i] = float(li[1])"
   ]
  },
  {
   "cell_type": "code",
   "execution_count": 79,
   "id": "39e30ddf-5e92-4b9a-b5f5-a696106158f9",
   "metadata": {},
   "outputs": [],
   "source": [
    "### For T5 calculation\n",
    "# Here lower shelf's last 6 points are analysed for the point having the lowest energy\n",
    "\n",
    "test_0 = impact_energy[0]\n",
    "    \n",
    "for i in range(1,6):\n",
    "    if impact_energy[i] > test_0:\n",
    "        minimum = test_0\n",
    "    else:\n",
    "        minimum = impact_energy[i]\n",
    "        test_0 = impact_energy[i]\n",
    "        index_min = i\n",
    "    \n",
    "if minimum == impact_energy[0]:\n",
    "    index_min = 0 \n",
    "    \n",
    "### For T1 calculation\n",
    "# Here upper shelf's last 6 points are analysed for the point having the highest energy\n",
    "    \n",
    "test_1 = impact_energy[-6]\n",
    "    \n",
    "for i in range(-6,0):\n",
    "    if impact_energy[i] < test_1:\n",
    "        maximum = test_1\n",
    "    else:\n",
    "        maximum = impact_energy[i]\n",
    "        test_1 = impact_energy[i]\n",
    "        index_max = i\n",
    "    \n",
    "if maximum == impact_energy[-6]:\n",
    "    index_max = (lines)+(-6)\n",
    "    \n",
    "index_max = lines+index_max\n",
    "\n",
    "### For T3 Calculation\n",
    "# Here average of the last 6 points and first 6 points are carried out so that we get a temperature average\n",
    " \n",
    "sum1 = 0\n",
    "sum2 = 0\n",
    "\n",
    "for i in range(6):\n",
    "    sum1 = sum1 + temperature[i]\n",
    "    \n",
    "for i in range(-6,0):    \n",
    "    sum2 = sum2 + temperature[i]\n",
    "\n",
    "average = (sum1+sum2)/12"
   ]
  },
  {
   "cell_type": "code",
   "execution_count": 80,
   "id": "a900b231-b19f-436c-9943-9b89d1fa7295",
   "metadata": {
    "tags": []
   },
   "outputs": [
    {
     "name": "stdout",
     "output_type": "stream",
     "text": [
      "\n",
      "The T1 Temperature is 154.875 degree celsius, having an impact energy 190.8\n",
      "\n",
      "The T3 Temperature is 43.09375 degree celsius, here it is temperature average of upper and lower shelfs\n",
      "\n",
      "The T5 Temperature is -81.0 degree celsius, having an impact energy 6.6\n"
     ]
    },
    {
     "data": {
      "text/plain": [
       "[<matplotlib.lines.Line2D at 0x1ad7c712c10>]"
      ]
     },
     "execution_count": 80,
     "metadata": {},
     "output_type": "execute_result"
    },
    {
     "data": {
      "image/png": "[encoded data removed]",
      "text/plain": [
       "<Figure size 432x288 with 1 Axes>"
      ]
     },
     "metadata": {
      "needs_background": "light"
     },
     "output_type": "display_data"
    }
   ],
   "source": [
    "print(\"\\nThe T1 Temperature is \"+str(temperature[index_max])+\" degree celsius, having an impact energy \"+str(maximum))\n",
    "print(\"\\nThe T3 Temperature is \"+str(average)+\" degree celsius, here it is temperature average of upper and lower shelfs\")\n",
    "print(\"\\nThe T5 Temperature is \"+str(temperature[index_min])+\" degree celsius, having an impact energy \"+str(minimum))\n",
    "\n",
    "plt.xlabel(\"\\nTemperature (Celsius)\")\n",
    "plt.ylabel(\"\\nCharpy impact energy (in Joules)\\n\")\n",
    "plt.title(\"Impact energy (vs) Temperature Curve\\n\")\n",
    "plt.scatter(temperature, impact_energy)\n",
    "plt.plot(temperature, impact_energy)"
   ]
  },
  {
   "cell_type": "code",
   "execution_count": null,
   "id": "5dccc239-492d-47dd-8bf3-eb0287d45185",
   "metadata": {},
   "outputs": [],
   "source": []
  }
 ],
 "metadata": {
  "kernelspec": {
   "display_name": "Python 3 (ipykernel)",
   "language": "python",
   "name": "python3"
  },
  "language_info": {
   "codemirror_mode": {
    "name": "ipython",
    "version": 3
   },
   "file_extension": ".py",
   "mimetype": "text/x-python",
   "name": "python",
   "nbconvert_exporter": "python",
   "pygments_lexer": "ipython3",
   "version": "3.9.7"
  }
 },
 "nbformat": 4,
 "nbformat_minor": 5
}
